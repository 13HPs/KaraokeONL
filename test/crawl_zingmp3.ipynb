{
 "nbformat": 4,
 "nbformat_minor": 0,
 "metadata": {
  "colab": {
   "private_outputs": true,
   "provenance": [],
   "gpuType": "T4"
  },
  "kernelspec": {
   "name": "python3",
   "display_name": "Python 3 (ipykernel)",
   "language": "python"
  },
  "language_info": {
   "name": "python"
  },
  "accelerator": "GPU"
 },
 "cells": [
  {
   "cell_type": "markdown",
   "source": [
    "Install Necessary Libraries"
   ],
   "metadata": {
    "id": "qAa6Uwc3Z4kH"
   }
  },
  {
   "cell_type": "code",
   "source": [
    "import requests\n",
    "import os"
   ],
   "metadata": {
    "id": "yRaLqXEluuKB",
    "ExecuteTime": {
     "end_time": "2024-11-23T10:52:48.229553Z",
     "start_time": "2024-11-23T10:52:48.216588Z"
    }
   },
   "outputs": [],
   "execution_count": 75
  },
  {
   "metadata": {},
   "cell_type": "code",
   "outputs": [],
   "execution_count": null,
   "source": ""
  },
  {
   "metadata": {},
   "cell_type": "code",
   "outputs": [],
   "execution_count": null,
   "source": [
    "! pip uninstall pysrt webvtt-py demucs\n",
    "! pip uninstall datasets transformers torchaudio pyannote-audio\n",
    "! pip uninstall torch torchvision torchaudio --index-url https://download.pytorch.org/whl/cu121\n",
    "! apt-get uninstall ffmpeg -y"
   ]
  },
  {
   "cell_type": "code",
   "source": [
    "# Function to convert milliseconds to SRT time format\n",
    "def ms_to_vtt_time(ms):\n",
    "    \"\"\"Convert milliseconds to VTT time format (hh:mm:ss.mmm).\"\"\"\n",
    "    seconds, milliseconds = divmod(ms, 1000)\n",
    "    minutes, seconds = divmod(seconds, 60)\n",
    "    hours, minutes = divmod(minutes, 60)\n",
    "    return f\"{hours:02}:{minutes:02}:{seconds:02}.{milliseconds:03}\"\n",
    "\n",
    "# Convert JSON to VTT format\n",
    "def json_to_vtt(data):\n",
    "    vtt_output = [\"WEBVTT\\n\"]\n",
    "    for sentence in data[\"data\"][\"sentences\"]:\n",
    "        # Extract start and end times from words\n",
    "        words = sentence['words']\n",
    "        start_time = words[0]['startTime']\n",
    "        end_time = words[-1]['endTime']\n",
    "\n",
    "        # Build the text by joining the words\n",
    "        sentence_text = \" \".join(word['data'] for word in words)\n",
    "\n",
    "        # Format the VTT entry (no numbering, periods for milliseconds)\n",
    "        vtt_entry = f\"{ms_to_vtt_time(start_time)} --> {ms_to_vtt_time(end_time)}\\n{sentence_text}\\n\"\n",
    "        vtt_output.append(vtt_entry)\n",
    "\n",
    "    # Join all entries into a single string\n",
    "    return \"\\n\".join(vtt_output)"
   ],
   "metadata": {
    "id": "YJPov7SciHBV",
    "ExecuteTime": {
     "end_time": "2024-11-23T10:52:49.151186Z",
     "start_time": "2024-11-23T10:52:49.121127Z"
    }
   },
   "outputs": [],
   "execution_count": 76
  },
  {
   "cell_type": "markdown",
   "source": [],
   "metadata": {
    "id": "MwOvpuwMcXa6"
   }
  },
  {
   "cell_type": "code",
   "source": [
    "headers = {\n",
    "    \"Cookie\": \"zpsid=eMqpTcwdFagwSouTMuLAKCeFGmHUZKrIpnb71qEHF528SdD0QFmE5RyZUonNtWeciWb-7sNyB4MzAY1mQyHCUgi76KbkscLRe28K2MhIR1ARDpqMUxb0GG; _ga=GA1.1.275598198.1730047845; zmp3_app_version.1=11111; __zi=3000.QOBlzDCV2uGerkFzm09MrcFJw_h21nBNOTEb-iCC6DHbsg_-.1; __zi-legacy=3000.SSZzejyD0jSbZUgxWaGPoJIFlgNCIW6AQ9sqkju84vnxtElytGzRrttHxV_VIbdKUPhi_jX4MjGoEJ0.1; adtimaUserId=3000.SSZzejyD0jSbZUgxWaGPoJIFlgNCIW6AQ9sqkju84vnxtElytGzRrttHxV_VIbdKUPhi_jX4MjGoEJ0.1; sssx=y4FXsbNCQcxXVnN8sS8TRc5HAOLroCwHLnhR9.GzMbitJ2oz37stipkcrPRm3k3wodVkHCwjCtE_; zwqcuziqf=1730730446526; zmp3_rqid=MHw0Mi4xMTQdUngMjIdUngMTQyfHYxLjExLjExfDE3MzIzNTg2OTY4MDg; _zabst=1%2Cd2ViLmFwaS5hZHRpbWFzZXJ2ZXIudm4%3D%2C0%2CzpmLx4SNyATM0IjLiV2d; atmpv=2; _ga_0CM5NZ8HKZ=GS1.1.1730644046.6.1.1730644185.0.0.0\",\n",
    "}"
   ],
   "metadata": {
    "id": "gwDJfhVWux0P",
    "ExecuteTime": {
     "end_time": "2024-11-23T10:52:51.261107Z",
     "start_time": "2024-11-23T10:52:51.242665Z"
    }
   },
   "outputs": [],
   "execution_count": 77
  },
  {
   "metadata": {
    "id": "PmW_w4xOp2xC",
    "ExecuteTime": {
     "end_time": "2024-11-23T10:52:53.088030Z",
     "start_time": "2024-11-23T10:52:52.935908Z"
    }
   },
   "cell_type": "code",
   "source": [
    "# The URL to fetch the JSON data\n",
    "# url = input(\"uri \")\n",
    "# artist_name = input(\"artist: \").strip()\n",
    "# video_title = input(\"title: \").strip()\n",
    "\n",
    "url = \"https://zingmp3.vn/api/v2/lyric/get/lyric?id=ZW78CD0I&BGId=0&ctime=1732358657&version=1.11.11&sig=10ce52fc19ae1e8c15ec60daf6aa8789b48438a98b56a283d2572a29b634f8bf1c0ecc2556206a4611279bf6239e2bff0c74abcc3e29faeecbb639b16f0d919d&apiKey=X5BM3w8N7MKozC0B85o4KMlzLZKhV00y\"\n",
    "artist_name = \"son_tung\"\n",
    "video_title = \"chung_ta_khong_thuoc_ve_nhau\"\n",
    "\n",
    "output_dir = os.path.join('datasets', artist_name, video_title)\n",
    "\n",
    "os.makedirs(output_dir, exist_ok=True)\n",
    "\n",
    "# Send the GET request with the headers\n",
    "try:\n",
    "    response = requests.get(url, headers=headers)\n",
    "    response.raise_for_status()  # Check for HTTP errors\n",
    "\n",
    "    # Parse and print the response JSON\n",
    "    data = response.json()\n",
    "    print(data)\n",
    "    # Specify the file path to save the SRT content\n",
    "    file_path = f\"./datasets/{artist_name}/{video_title}/lyrics.vtt\"\n",
    "\n",
    "    # Write the SRT content to a file\n",
    "    with open(file_path, \"w\", encoding=\"utf-8\") as file:\n",
    "        file.write(json_to_vtt(data))\n",
    "\n",
    "\n",
    "except requests.exceptions.RequestException as e:\n",
    "    print(\"Error fetching JSON data:\", e)"
   ],
   "outputs": [
    {
     "name": "stdout",
     "output_type": "stream",
     "text": [
      "{'err': 0, 'msg': 'Success', 'data': {'sentences': [{'words': [{'startTime': 4780, 'endTime': 5310, 'data': 'Về'}, {'startTime': 5310, 'endTime': 5840, 'data': 'về'}, {'startTime': 5840, 'endTime': 6370, 'data': 'về'}, {'startTime': 6370, 'endTime': 6910, 'data': 'nơi'}, {'startTime': 6910, 'endTime': 8240, 'data': 'này'}]}, {'words': [{'startTime': 8240, 'endTime': 8500, 'data': 'Chúng'}, {'startTime': 8500, 'endTime': 8500, 'data': 'ta'}, {'startTime': 8500, 'endTime': 8760, 'data': 'không'}, {'startTime': 8760, 'endTime': 9040, 'data': 'thuộc'}, {'startTime': 9040, 'endTime': 9300, 'data': 'về'}, {'startTime': 9300, 'endTime': 12300, 'data': 'nhau'}]}, {'words': [{'startTime': 12980, 'endTime': 13230, 'data': 'Chúng'}, {'startTime': 13230, 'endTime': 13230, 'data': 'ta'}, {'startTime': 13230, 'endTime': 13500, 'data': 'không'}, {'startTime': 13500, 'endTime': 13770, 'data': 'thuộc'}, {'startTime': 13770, 'endTime': 14560, 'data': 'về'}]}, {'words': [{'startTime': 14560, 'endTime': 14830, 'data': 'Về'}, {'startTime': 14830, 'endTime': 15360, 'data': 'về'}, {'startTime': 15360, 'endTime': 15620, 'data': 'về'}, {'startTime': 15620, 'endTime': 16160, 'data': 'nơi'}, {'startTime': 16160, 'endTime': 17760, 'data': 'này'}]}, {'words': [{'startTime': 17760, 'endTime': 18020, 'data': 'Niềm'}, {'startTime': 18020, 'endTime': 18020, 'data': 'tin'}, {'startTime': 18020, 'endTime': 18550, 'data': 'đã'}, {'startTime': 18550, 'endTime': 19340, 'data': 'mất,'}]}, {'words': [{'startTime': 19340, 'endTime': 19340, 'data': 'Giọt'}, {'startTime': 19340, 'endTime': 19620, 'data': 'nước'}, {'startTime': 19620, 'endTime': 19890, 'data': 'mắt'}, {'startTime': 19890, 'endTime': 20160, 'data': 'cuốn'}, {'startTime': 20160, 'endTime': 20160, 'data': 'ký'}, {'startTime': 20160, 'endTime': 20400, 'data': 'ức'}, {'startTime': 20400, 'endTime': 20670, 'data': 'anh'}, {'startTime': 20670, 'endTime': 20940, 'data': 'chìm'}, {'startTime': 20940, 'endTime': 22270, 'data': 'sâu'}]}, {'words': [{'startTime': 22270, 'endTime': 22540, 'data': 'Tình'}, {'startTime': 22540, 'endTime': 22800, 'data': 'về'}, {'startTime': 22800, 'endTime': 23070, 'data': 'nơi'}, {'startTime': 23070, 'endTime': 23870, 'data': 'đâu,'}]}, {'words': [{'startTime': 23870, 'endTime': 24120, 'data': 'Cô'}, {'startTime': 24120, 'endTime': 24400, 'data': 'đơn'}, {'startTime': 24400, 'endTime': 24670, 'data': 'đôi'}, {'startTime': 24670, 'endTime': 24670, 'data': 'chân'}]}, {'words': [{'startTime': 24670, 'endTime': 24920, 'data': 'Lạc'}, {'startTime': 24920, 'endTime': 25180, 'data': 'trôi'}, {'startTime': 25180, 'endTime': 25460, 'data': 'giữa'}, {'startTime': 25460, 'endTime': 25980, 'data': 'bầu'}, {'startTime': 25980, 'endTime': 26780, 'data': 'trời'}]}, {'words': [{'startTime': 26780, 'endTime': 27050, 'data': 'Màn'}, {'startTime': 27050, 'endTime': 27320, 'data': 'đêm'}, {'startTime': 27320, 'endTime': 27850, 'data': 'che'}, {'startTime': 27850, 'endTime': 28560, 'data': 'giấu'}]}, {'words': [{'startTime': 28560, 'endTime': 28840, 'data': 'Từng'}, {'startTime': 28840, 'endTime': 29110, 'data': 'góc'}, {'startTime': 29110, 'endTime': 29370, 'data': 'tối'}, {'startTime': 29370, 'endTime': 29370, 'data': 'khuất'}, {'startTime': 29370, 'endTime': 29630, 'data': 'lấp'}]}, {'words': [{'startTime': 29630, 'endTime': 29630, 'data': 'Phía'}, {'startTime': 29630, 'endTime': 29900, 'data': 'sau'}, {'startTime': 29900, 'endTime': 30170, 'data': 'bờ'}, {'startTime': 30170, 'endTime': 31750, 'data': 'môi'}]}, {'words': [{'startTime': 31750, 'endTime': 31750, 'data': 'Tại'}, {'startTime': 31750, 'endTime': 32030, 'data': 'vì'}, {'startTime': 32030, 'endTime': 32550, 'data': 'anh'}, {'startTime': 32550, 'endTime': 33350, 'data': 'thôi'}]}, {'words': [{'startTime': 33350, 'endTime': 33350, 'data': 'Yêu'}, {'startTime': 33350, 'endTime': 33630, 'data': 'say'}, {'startTime': 33630, 'endTime': 33890, 'data': 'mê'}, {'startTime': 33890, 'endTime': 34150, 'data': 'nên'}, {'startTime': 34150, 'endTime': 34150, 'data': 'đôi'}, {'startTime': 34150, 'endTime': 34430, 'data': 'khi'}, {'startTime': 34430, 'endTime': 34680, 'data': 'quá'}, {'startTime': 34680, 'endTime': 35220, 'data': 'dại'}, {'startTime': 35220, 'endTime': 36270, 'data': 'khờ'}]}, {'words': [{'startTime': 36270, 'endTime': 36540, 'data': 'Nhắm'}, {'startTime': 36540, 'endTime': 36810, 'data': 'mắt'}, {'startTime': 36810, 'endTime': 37070, 'data': 'ơ'}, {'startTime': 37070, 'endTime': 37330, 'data': 'thờ'}]}, {'words': [{'startTime': 37330, 'endTime': 37600, 'data': 'Anh'}, {'startTime': 37600, 'endTime': 37860, 'data': 'không'}, {'startTime': 37860, 'endTime': 38130, 'data': 'muốn'}, {'startTime': 38130, 'endTime': 38400, 'data': 'lạc'}, {'startTime': 38400, 'endTime': 38660, 'data': 'vào'}, {'startTime': 38660, 'endTime': 38930, 'data': 'trong'}, {'startTime': 38930, 'endTime': 39210, 'data': 'nỗi'}, {'startTime': 39210, 'endTime': 39730, 'data': 'đau'}, {'startTime': 39730, 'endTime': 40790, 'data': 'này'}]}, {'words': [{'startTime': 40790, 'endTime': 41050, 'data': 'Phía'}, {'startTime': 41050, 'endTime': 41310, 'data': 'trước,'}, {'startTime': 41310, 'endTime': 41850, 'data': 'bây'}, {'startTime': 41850, 'endTime': 42110, 'data': 'giờ'}]}, {'words': [{'startTime': 42110, 'endTime': 42380, 'data': 'Ai'}, {'startTime': 42380, 'endTime': 42640, 'data': 'đang'}, {'startTime': 42640, 'endTime': 42910, 'data': 'nắm'}, {'startTime': 42910, 'endTime': 43180, 'data': 'chặt'}, {'startTime': 43180, 'endTime': 43440, 'data': 'bàn'}, {'startTime': 43440, 'endTime': 43710, 'data': 'tay'}, {'startTime': 43710, 'endTime': 43980, 'data': 'của'}, {'startTime': 43980, 'endTime': 44510, 'data': 'em'}, {'startTime': 44510, 'endTime': 45040, 'data': 'vậy'}]}, {'words': [{'startTime': 45040, 'endTime': 45570, 'data': 'Mông'}, {'startTime': 45570, 'endTime': 45570, 'data': 'lung'}, {'startTime': 45570, 'endTime': 45840, 'data': 'như'}, {'startTime': 45840, 'endTime': 46110, 'data': 'một'}, {'startTime': 46110, 'endTime': 46370, 'data': 'trò'}, {'startTime': 46370, 'endTime': 47430, 'data': 'đùa'}]}, {'words': [{'startTime': 47430, 'endTime': 47700, 'data': 'Anh'}, {'startTime': 47700, 'endTime': 47960, 'data': 'xin'}, {'startTime': 47960, 'endTime': 48220, 'data': 'giơ'}, {'startTime': 48220, 'endTime': 48220, 'data': 'tay'}, {'startTime': 48220, 'endTime': 48490, 'data': 'rút'}, {'startTime': 48490, 'endTime': 48770, 'data': 'lui'}, {'startTime': 48770, 'endTime': 50090, 'data': 'thôi'}]}, {'words': [{'startTime': 50090, 'endTime': 50090, 'data': 'Do'}, {'startTime': 50090, 'endTime': 50360, 'data': 'ai'}]}, {'words': [{'startTime': 50360, 'endTime': 50620, 'data': 'Trách'}, {'startTime': 50620, 'endTime': 50890, 'data': 'ai'}, {'startTime': 50890, 'endTime': 51150, 'data': 'bây'}, {'startTime': 51150, 'endTime': 51410, 'data': 'giờ'}, {'startTime': 51410, 'endTime': 54410, 'data': 'đây'}]}, {'words': [{'startTime': 54620, 'endTime': 54890, 'data': 'Chúng'}, {'startTime': 54890, 'endTime': 55150, 'data': 'ta'}, {'startTime': 55150, 'endTime': 55150, 'data': 'không'}, {'startTime': 55150, 'endTime': 55410, 'data': 'thuộc'}, {'startTime': 55410, 'endTime': 55690, 'data': 'về'}, {'startTime': 55690, 'endTime': 57000, 'data': 'nhau'}]}, {'words': [{'startTime': 57000, 'endTime': 57270, 'data': 'Chúng'}, {'startTime': 57270, 'endTime': 57530, 'data': 'ta'}, {'startTime': 57530, 'endTime': 57530, 'data': 'không'}, {'startTime': 57530, 'endTime': 57800, 'data': 'thuộc'}, {'startTime': 57800, 'endTime': 58070, 'data': 'về'}, {'startTime': 58070, 'endTime': 59130, 'data': 'nhau'}]}, {'words': [{'startTime': 59130, 'endTime': 59400, 'data': 'Chúng'}, {'startTime': 59400, 'endTime': 59670, 'data': 'ta'}, {'startTime': 59670, 'endTime': 59670, 'data': 'không'}, {'startTime': 59670, 'endTime': 59930, 'data': 'thuộc'}, {'startTime': 59930, 'endTime': 60470, 'data': 'về'}, {'startTime': 60470, 'endTime': 60730, 'data': 'nhau'}]}, {'words': [{'startTime': 60730, 'endTime': 60990, 'data': 'Em'}, {'startTime': 60990, 'endTime': 61520, 'data': 'hãy'}, {'startTime': 61520, 'endTime': 61790, 'data': 'cứ'}, {'startTime': 61790, 'endTime': 62050, 'data': 'đi'}, {'startTime': 62050, 'endTime': 62320, 'data': 'bên'}, {'startTime': 62320, 'endTime': 62320, 'data': 'người'}, {'startTime': 62320, 'endTime': 62590, 'data': 'mà'}, {'startTime': 62590, 'endTime': 63390, 'data': 'em'}, {'startTime': 63390, 'endTime': 63910, 'data': 'cần'}]}, {'words': [{'startTime': 63910, 'endTime': 64180, 'data': 'Trái'}, {'startTime': 64180, 'endTime': 64180, 'data': 'tim'}, {'startTime': 64180, 'endTime': 64440, 'data': 'không'}, {'startTime': 64440, 'endTime': 64720, 'data': 'thuộc'}, {'startTime': 64720, 'endTime': 64990, 'data': 'về'}, {'startTime': 64990, 'endTime': 66040, 'data': 'nhau'}]}, {'words': [{'startTime': 66040, 'endTime': 66300, 'data': 'Giấc'}, {'startTime': 66300, 'endTime': 66570, 'data': 'mơ'}, {'startTime': 66570, 'endTime': 66840, 'data': 'không'}, {'startTime': 66840, 'endTime': 66840, 'data': 'là'}, {'startTime': 66840, 'endTime': 67370, 'data': 'của'}, {'startTime': 67370, 'endTime': 68430, 'data': 'nhau'}]}, {'words': [{'startTime': 68430, 'endTime': 68700, 'data': 'Xóa'}, {'startTime': 68700, 'endTime': 68970, 'data': 'câu'}, {'startTime': 68970, 'endTime': 69230, 'data': 'ca'}, {'startTime': 69230, 'endTime': 69490, 'data': 'buồn'}, {'startTime': 69490, 'endTime': 69760, 'data': 'chiều'}, {'startTime': 69760, 'endTime': 70020, 'data': 'mưa'}]}, {'words': [{'startTime': 70020, 'endTime': 70550, 'data': 'Anh'}, {'startTime': 70550, 'endTime': 70820, 'data': 'lỡ'}, {'startTime': 70820, 'endTime': 71080, 'data': 'xóa'}, {'startTime': 71080, 'endTime': 71350, 'data': 'luôn'}, {'startTime': 71350, 'endTime': 71620, 'data': 'yêu'}, {'startTime': 71620, 'endTime': 71620, 'data': 'thương'}, {'startTime': 71620, 'endTime': 72150, 'data': 'ngày'}, {'startTime': 72150, 'endTime': 72680, 'data': 'xưa'}, {'startTime': 72680, 'endTime': 73210, 'data': 'rồi'}]}, {'words': [{'startTime': 73210, 'endTime': 73470, 'data': 'Chúng'}, {'startTime': 73470, 'endTime': 73740, 'data': 'ta'}, {'startTime': 73740, 'endTime': 74010, 'data': 'không'}, {'startTime': 74010, 'endTime': 74270, 'data': 'thuộc'}, {'startTime': 74270, 'endTime': 74550, 'data': 'về'}, {'startTime': 74550, 'endTime': 77550, 'data': 'nhau'}]}, {'words': [{'startTime': 78270, 'endTime': 78270, 'data': 'Chúng'}, {'startTime': 78270, 'endTime': 78540, 'data': 'ta'}, {'startTime': 78540, 'endTime': 78800, 'data': 'không'}, {'startTime': 78800, 'endTime': 79070, 'data': 'thuộc'}, {'startTime': 79070, 'endTime': 80400, 'data': 'về'}]}, {'words': [{'startTime': 80400, 'endTime': 80670, 'data': 'Về'}, {'startTime': 80670, 'endTime': 80930, 'data': 'về'}, {'startTime': 80930, 'endTime': 81200, 'data': 'về'}, {'startTime': 81200, 'endTime': 81470, 'data': 'nơi'}, {'startTime': 81470, 'endTime': 82530, 'data': 'này'}]}, {'words': [{'startTime': 82530, 'endTime': 82790, 'data': 'Chúng'}, {'startTime': 82790, 'endTime': 83060, 'data': 'ta'}, {'startTime': 83060, 'endTime': 83060, 'data': 'không'}, {'startTime': 83060, 'endTime': 83320, 'data': 'thuộc'}, {'startTime': 83320, 'endTime': 83850, 'data': 'về'}, {'startTime': 83850, 'endTime': 86850, 'data': 'nhau'}]}, {'words': [{'startTime': 87310, 'endTime': 87570, 'data': 'Chúng'}, {'startTime': 87570, 'endTime': 87840, 'data': 'ta'}, {'startTime': 87840, 'endTime': 88100, 'data': 'không'}, {'startTime': 88100, 'endTime': 88360, 'data': 'thuộc'}, {'startTime': 88360, 'endTime': 89430, 'data': 'về'}]}, {'words': [{'startTime': 89430, 'endTime': 89690, 'data': 'Về'}, {'startTime': 89690, 'endTime': 89950, 'data': 'về'}, {'startTime': 89950, 'endTime': 90230, 'data': 'về'}, {'startTime': 90230, 'endTime': 90750, 'data': 'nơi'}, {'startTime': 90750, 'endTime': 93150, 'data': 'này'}]}, {'words': [{'startTime': 93150, 'endTime': 93680, 'data': 'Hey,'}, {'startTime': 93680, 'endTime': 93950, 'data': 'từng'}, {'startTime': 93950, 'endTime': 94220, 'data': 'đêm'}, {'startTime': 94220, 'endTime': 95010, 'data': 'qua'}]}, {'words': [{'startTime': 95010, 'endTime': 95270, 'data': 'Cơn'}, {'startTime': 95270, 'endTime': 95540, 'data': 'mưa'}, {'startTime': 95540, 'endTime': 95540, 'data': 'bao'}, {'startTime': 95540, 'endTime': 95800, 'data': 'vây'}, {'startTime': 95800, 'endTime': 96080, 'data': 'chia'}, {'startTime': 96080, 'endTime': 96350, 'data': 'rời'}, {'startTime': 96350, 'endTime': 96610, 'data': 'đôi'}, {'startTime': 96610, 'endTime': 97880, 'data': 'ta'}]}, {'words': [{'startTime': 97880, 'endTime': 98670, 'data': 'Em,'}, {'startTime': 98670, 'endTime': 98930, 'data': 'ngày'}, {'startTime': 98930, 'endTime': 98930, 'data': 'hôm'}, {'startTime': 98930, 'endTime': 99730, 'data': 'qua'}]}, {'words': [{'startTime': 99730, 'endTime': 99990, 'data': 'Cuốn'}, {'startTime': 99990, 'endTime': 100260, 'data': 'gió'}, {'startTime': 100260, 'endTime': 100520, 'data': 'theo'}, {'startTime': 100520, 'endTime': 100780, 'data': 'mây'}, {'startTime': 100780, 'endTime': 100780, 'data': 'đi'}, {'startTime': 100780, 'endTime': 101060, 'data': 'về'}, {'startTime': 101060, 'endTime': 101320, 'data': 'nơi'}, {'startTime': 101320, 'endTime': 102120, 'data': 'xa'}]}, {'words': [{'startTime': 102120, 'endTime': 102390, 'data': 'Trời'}, {'startTime': 102390, 'endTime': 102660, 'data': 'xanh'}, {'startTime': 102660, 'endTime': 102920, 'data': 'rộng'}, {'startTime': 102920, 'endTime': 102920, 'data': 'bao'}, {'startTime': 102920, 'endTime': 103460, 'data': 'la'}]}, {'words': [{'startTime': 103460, 'endTime': 103720, 'data': 'Anh'}, {'startTime': 103720, 'endTime': 103720, 'data': 'lê'}, {'startTime': 103720, 'endTime': 103990, 'data': 'đôi'}, {'startTime': 103990, 'endTime': 104250, 'data': 'chân'}, {'startTime': 104250, 'endTime': 104510, 'data': 'mình'}, {'startTime': 104510, 'endTime': 104780, 'data': 'bơ'}, {'startTime': 104780, 'endTime': 105040, 'data': 'vơ,'}, {'startTime': 105040, 'endTime': 105300, 'data': 'lang'}, {'startTime': 105300, 'endTime': 105570, 'data': 'thang'}]}, {'words': [{'startTime': 105570, 'endTime': 105570, 'data': 'Có'}, {'startTime': 105570, 'endTime': 105840, 'data': 'lẽ'}, {'startTime': 105840, 'endTime': 106100, 'data': 'em'}, {'startTime': 106100, 'endTime': 106100, 'data': 'đang'}, {'startTime': 106100, 'endTime': 106370, 'data': 'yên'}, {'startTime': 106370, 'endTime': 106640, 'data': 'vui'}, {'startTime': 106640, 'endTime': 106640, 'data': 'bên'}, {'startTime': 106640, 'endTime': 106900, 'data': 'nhân'}, {'startTime': 106900, 'endTime': 107170, 'data': 'tình'}]}, {'words': [{'startTime': 107170, 'endTime': 107440, 'data': 'Quên'}, {'startTime': 107440, 'endTime': 107440, 'data': 'đi'}, {'startTime': 107440, 'endTime': 107710, 'data': 'để'}, {'startTime': 107710, 'endTime': 107990, 'data': 'anh'}, {'startTime': 107990, 'endTime': 108250, 'data': 'nhớ'}]}, {'words': [{'startTime': 108250, 'endTime': 108250, 'data': 'Hơi'}, {'startTime': 108250, 'endTime': 108510, 'data': 'men'}, {'startTime': 108510, 'endTime': 108790, 'data': 'để'}, {'startTime': 108790, 'endTime': 109040, 'data': 'anh'}, {'startTime': 109040, 'endTime': 109310, 'data': 'mơ'}]}, {'words': [{'startTime': 109310, 'endTime': 109570, 'data': 'Nơi'}, {'startTime': 109570, 'endTime': 109570, 'data': 'đâu'}, {'startTime': 109570, 'endTime': 109840, 'data': 'để'}, {'startTime': 109840, 'endTime': 110100, 'data': 'anh'}, {'startTime': 110100, 'endTime': 110380, 'data': 'giấu'}]}, {'words': [{'startTime': 110380, 'endTime': 110640, 'data': 'Một'}, {'startTime': 110640, 'endTime': 110640, 'data': 'nỗi'}, {'startTime': 110640, 'endTime': 110900, 'data': 'buồn'}, {'startTime': 110900, 'endTime': 111170, 'data': 'vào'}, {'startTime': 111170, 'endTime': 111430, 'data': 'trong'}, {'startTime': 111430, 'endTime': 111430, 'data': 'thơ'}]}, {'words': [{'startTime': 111430, 'endTime': 111690, 'data': 'Nhắm'}, {'startTime': 111690, 'endTime': 111970, 'data': 'mắt'}, {'startTime': 111970, 'endTime': 111970, 'data': 'ơ'}, {'startTime': 111970, 'endTime': 112230, 'data': 'thờ'}]}, {'words': [{'startTime': 112230, 'endTime': 112490, 'data': 'Anh'}, {'startTime': 112490, 'endTime': 112490, 'data': 'không'}, {'startTime': 112490, 'endTime': 112770, 'data': 'muốn'}, {'startTime': 112770, 'endTime': 113040, 'data': 'lạc'}, {'startTime': 113040, 'endTime': 113300, 'data': 'vào'}, {'startTime': 113300, 'endTime': 113560, 'data': 'trong'}, {'startTime': 113560, 'endTime': 113820, 'data': 'nỗi'}, {'startTime': 113820, 'endTime': 114080, 'data': 'đau'}, {'startTime': 114080, 'endTime': 115420, 'data': 'này'}]}, {'words': [{'startTime': 115420, 'endTime': 115680, 'data': 'Phía'}, {'startTime': 115680, 'endTime': 115950, 'data': 'trước,'}, {'startTime': 115950, 'endTime': 116210, 'data': 'bây'}, {'startTime': 116210, 'endTime': 116470, 'data': 'giờ'}]}, {'words': [{'startTime': 116470, 'endTime': 116760, 'data': 'Ai'}, {'startTime': 116760, 'endTime': 117020, 'data': 'đang'}, {'startTime': 117020, 'endTime': 117280, 'data': 'nắm'}, {'startTime': 117280, 'endTime': 117550, 'data': 'chặt'}, {'startTime': 117550, 'endTime': 117810, 'data': 'bàn'}, {'startTime': 117810, 'endTime': 118070, 'data': 'tay'}, {'startTime': 118070, 'endTime': 118340, 'data': 'của'}, {'startTime': 118340, 'endTime': 118860, 'data': 'em'}, {'startTime': 118860, 'endTime': 119930, 'data': 'vậy'}]}, {'words': [{'startTime': 119930, 'endTime': 120190, 'data': 'Mông'}, {'startTime': 120190, 'endTime': 120190, 'data': 'lung'}, {'startTime': 120190, 'endTime': 120470, 'data': 'như'}, {'startTime': 120470, 'endTime': 120730, 'data': 'một'}, {'startTime': 120730, 'endTime': 120990, 'data': 'trò'}, {'startTime': 120990, 'endTime': 122060, 'data': 'đùa'}]}, {'words': [{'startTime': 122060, 'endTime': 122320, 'data': 'Anh'}, {'startTime': 122320, 'endTime': 122590, 'data': 'xin'}, {'startTime': 122590, 'endTime': 122590, 'data': 'giơ'}, {'startTime': 122590, 'endTime': 122860, 'data': 'tay'}, {'startTime': 122860, 'endTime': 123120, 'data': 'rút'}, {'startTime': 123120, 'endTime': 123380, 'data': 'lui'}, {'startTime': 123380, 'endTime': 124450, 'data': 'thôi'}]}, {'words': [{'startTime': 124450, 'endTime': 124710, 'data': 'Do'}, {'startTime': 124710, 'endTime': 124970, 'data': 'ai'}]}, {'words': [{'startTime': 124970, 'endTime': 125240, 'data': 'Trách'}, {'startTime': 125240, 'endTime': 125240, 'data': 'ai'}, {'startTime': 125240, 'endTime': 125520, 'data': 'bây'}, {'startTime': 125520, 'endTime': 125780, 'data': 'giờ'}, {'startTime': 125780, 'endTime': 128780, 'data': 'đây'}]}, {'words': [{'startTime': 129240, 'endTime': 129500, 'data': 'Chúng'}, {'startTime': 129500, 'endTime': 129760, 'data': 'ta'}, {'startTime': 129760, 'endTime': 129760, 'data': 'không'}, {'startTime': 129760, 'endTime': 130040, 'data': 'thuộc'}, {'startTime': 130040, 'endTime': 130300, 'data': 'về'}, {'startTime': 130300, 'endTime': 131350, 'data': 'nhau'}]}, {'words': [{'startTime': 131350, 'endTime': 131620, 'data': 'Chúng'}, {'startTime': 131620, 'endTime': 131880, 'data': 'ta'}, {'startTime': 131880, 'endTime': 132140, 'data': 'không'}, {'startTime': 132140, 'endTime': 132140, 'data': 'thuộc'}, {'startTime': 132140, 'endTime': 132680, 'data': 'về'}, {'startTime': 132680, 'endTime': 133750, 'data': 'nhau'}]}, {'words': [{'startTime': 133750, 'endTime': 134010, 'data': 'Chúng'}, {'startTime': 134010, 'endTime': 134010, 'data': 'ta'}, {'startTime': 134010, 'endTime': 134270, 'data': 'không'}, {'startTime': 134270, 'endTime': 134540, 'data': 'thuộc'}, {'startTime': 134540, 'endTime': 135080, 'data': 'về'}, {'startTime': 135080, 'endTime': 135350, 'data': 'nhau'}]}, {'words': [{'startTime': 135350, 'endTime': 135870, 'data': 'Em'}, {'startTime': 135870, 'endTime': 136140, 'data': 'hãy'}, {'startTime': 136140, 'endTime': 136400, 'data': 'cứ'}, {'startTime': 136400, 'endTime': 136660, 'data': 'đi'}, {'startTime': 136660, 'endTime': 136940, 'data': 'bên'}, {'startTime': 136940, 'endTime': 137200, 'data': 'người'}, {'startTime': 137200, 'endTime': 137460, 'data': 'mà'}, {'startTime': 137460, 'endTime': 137730, 'data': 'em'}, {'startTime': 137730, 'endTime': 138260, 'data': 'cần'}]}, {'words': [{'startTime': 138260, 'endTime': 138530, 'data': 'Trái'}, {'startTime': 138530, 'endTime': 138800, 'data': 'tim'}, {'startTime': 138800, 'endTime': 139060, 'data': 'không'}, {'startTime': 139060, 'endTime': 139330, 'data': 'thuộc'}, {'startTime': 139330, 'endTime': 139590, 'data': 'về'}, {'startTime': 139590, 'endTime': 140650, 'data': 'nhau'}]}, {'words': [{'startTime': 140650, 'endTime': 140920, 'data': 'Giấc'}, {'startTime': 140920, 'endTime': 141180, 'data': 'mơ'}, {'startTime': 141180, 'endTime': 141440, 'data': 'không'}, {'startTime': 141440, 'endTime': 141440, 'data': 'là'}, {'startTime': 141440, 'endTime': 141980, 'data': 'của'}, {'startTime': 141980, 'endTime': 143050, 'data': 'nhau'}]}, {'words': [{'startTime': 143050, 'endTime': 143320, 'data': 'Xóa'}, {'startTime': 143320, 'endTime': 143580, 'data': 'câu'}, {'startTime': 143580, 'endTime': 143580, 'data': 'ca'}, {'startTime': 143580, 'endTime': 143850, 'data': 'buồn'}, {'startTime': 143850, 'endTime': 144130, 'data': 'chiều'}, {'startTime': 144130, 'endTime': 144640, 'data': 'mưa'}]}, {'words': [{'startTime': 144640, 'endTime': 145180, 'data': 'Anh'}, {'startTime': 145180, 'endTime': 145440, 'data': 'lỡ'}, {'startTime': 145440, 'endTime': 145720, 'data': 'xóa'}, {'startTime': 145720, 'endTime': 145980, 'data': 'luôn'}, {'startTime': 145980, 'endTime': 145980, 'data': 'yêu'}, {'startTime': 145980, 'endTime': 146240, 'data': 'thương'}, {'startTime': 146240, 'endTime': 146770, 'data': 'ngày'}, {'startTime': 146770, 'endTime': 147040, 'data': 'xưa'}, {'startTime': 147040, 'endTime': 147580, 'data': 'rồi'}]}, {'words': [{'startTime': 147580, 'endTime': 147840, 'data': 'Chúng'}, {'startTime': 147840, 'endTime': 148120, 'data': 'ta'}, {'startTime': 148120, 'endTime': 148380, 'data': 'không'}, {'startTime': 148380, 'endTime': 148380, 'data': 'thuộc'}, {'startTime': 148380, 'endTime': 148900, 'data': 'về'}, {'startTime': 148900, 'endTime': 151900, 'data': 'nhau'}]}, {'words': [{'startTime': 152630, 'endTime': 152880, 'data': 'Chúng'}, {'startTime': 152880, 'endTime': 153150, 'data': 'ta'}, {'startTime': 153150, 'endTime': 153420, 'data': 'không'}, {'startTime': 153420, 'endTime': 153680, 'data': 'thuộc'}, {'startTime': 153680, 'endTime': 154480, 'data': 'về'}]}, {'words': [{'startTime': 154480, 'endTime': 154740, 'data': 'Về'}, {'startTime': 154740, 'endTime': 155010, 'data': 'về'}, {'startTime': 155010, 'endTime': 155550, 'data': 'về'}, {'startTime': 155550, 'endTime': 156080, 'data': 'nơi'}, {'startTime': 156080, 'endTime': 157140, 'data': 'này'}]}, {'words': [{'startTime': 157140, 'endTime': 157410, 'data': 'Chúng'}, {'startTime': 157410, 'endTime': 157410, 'data': 'ta'}, {'startTime': 157410, 'endTime': 157660, 'data': 'không'}, {'startTime': 157660, 'endTime': 157930, 'data': 'thuộc'}, {'startTime': 157930, 'endTime': 158200, 'data': 'về'}, {'startTime': 158200, 'endTime': 161200, 'data': 'nhau'}]}, {'words': [{'startTime': 162180, 'endTime': 162180, 'data': 'Chúng'}, {'startTime': 162180, 'endTime': 162440, 'data': 'ta'}, {'startTime': 162440, 'endTime': 162710, 'data': 'không'}, {'startTime': 162710, 'endTime': 162710, 'data': 'thuộc'}, {'startTime': 162710, 'endTime': 163510, 'data': 'về'}]}, {'words': [{'startTime': 163510, 'endTime': 164040, 'data': 'Về'}, {'startTime': 164040, 'endTime': 164570, 'data': 'về'}, {'startTime': 164570, 'endTime': 164840, 'data': 'về'}, {'startTime': 164840, 'endTime': 165110, 'data': 'nơi'}, {'startTime': 165110, 'endTime': 166430, 'data': 'này'}]}, {'words': [{'startTime': 166430, 'endTime': 166700, 'data': 'Chúng'}, {'startTime': 166700, 'endTime': 166960, 'data': 'ta'}, {'startTime': 166960, 'endTime': 167230, 'data': 'không'}, {'startTime': 167230, 'endTime': 167230, 'data': 'thuộc'}, {'startTime': 167230, 'endTime': 167760, 'data': 'về'}, {'startTime': 167760, 'endTime': 169560, 'data': 'nhau'}]}, {'words': [{'startTime': 169560, 'endTime': 169560, 'data': 'Không'}, {'startTime': 169560, 'endTime': 169820, 'data': 'thuộc'}, {'startTime': 169820, 'endTime': 170090, 'data': 'về'}, {'startTime': 170090, 'endTime': 171890, 'data': 'nhau'}]}, {'words': [{'startTime': 171890, 'endTime': 172150, 'data': 'Không'}, {'startTime': 172150, 'endTime': 172150, 'data': 'thuộc'}, {'startTime': 172150, 'endTime': 173210, 'data': 'về'}, {'startTime': 173210, 'endTime': 175870, 'data': 'nhau'}]}, {'words': [{'startTime': 175870, 'endTime': 176130, 'data': 'Chúng'}, {'startTime': 176130, 'endTime': 176410, 'data': 'ta'}, {'startTime': 176410, 'endTime': 176410, 'data': 'không'}, {'startTime': 176410, 'endTime': 176680, 'data': 'thuộc'}, {'startTime': 176680, 'endTime': 176930, 'data': 'về'}, {'startTime': 176930, 'endTime': 178810, 'data': 'nhau'}]}, {'words': [{'startTime': 178810, 'endTime': 179060, 'data': 'Không'}, {'startTime': 179060, 'endTime': 179320, 'data': 'thuộc'}, {'startTime': 179320, 'endTime': 179590, 'data': 'về'}, {'startTime': 179590, 'endTime': 181180, 'data': 'nhau'}]}, {'words': [{'startTime': 181180, 'endTime': 181450, 'data': 'Không'}, {'startTime': 181450, 'endTime': 181450, 'data': 'thuộc'}, {'startTime': 181450, 'endTime': 182500, 'data': 'về'}, {'startTime': 182500, 'endTime': 185170, 'data': 'nhau'}]}, {'words': [{'startTime': 185170, 'endTime': 185430, 'data': 'Chúng'}, {'startTime': 185430, 'endTime': 185430, 'data': 'ta'}, {'startTime': 185430, 'endTime': 185690, 'data': 'không'}, {'startTime': 185690, 'endTime': 185960, 'data': 'thuộc'}, {'startTime': 185960, 'endTime': 186230, 'data': 'về'}, {'startTime': 186230, 'endTime': 187300, 'data': 'nhau'}]}, {'words': [{'startTime': 187300, 'endTime': 187570, 'data': 'Chúng'}, {'startTime': 187570, 'endTime': 187830, 'data': 'ta'}, {'startTime': 187830, 'endTime': 188090, 'data': 'không'}, {'startTime': 188090, 'endTime': 188090, 'data': 'thuộc'}, {'startTime': 188090, 'endTime': 188620, 'data': 'về'}, {'startTime': 188620, 'endTime': 189420, 'data': 'nhau'}]}, {'words': [{'startTime': 189420, 'endTime': 189700, 'data': 'Chúng'}, {'startTime': 189700, 'endTime': 189950, 'data': 'ta'}, {'startTime': 189950, 'endTime': 190220, 'data': 'không'}, {'startTime': 190220, 'endTime': 190220, 'data': 'thuộc'}, {'startTime': 190220, 'endTime': 190770, 'data': 'về'}, {'startTime': 190770, 'endTime': 191290, 'data': 'nhau'}]}, {'words': [{'startTime': 191290, 'endTime': 191560, 'data': 'Em'}, {'startTime': 191560, 'endTime': 191820, 'data': 'hãy'}, {'startTime': 191820, 'endTime': 192090, 'data': 'cứ'}, {'startTime': 192090, 'endTime': 192350, 'data': 'đi'}, {'startTime': 192350, 'endTime': 192620, 'data': 'bên'}, {'startTime': 192620, 'endTime': 192890, 'data': 'người'}, {'startTime': 192890, 'endTime': 193150, 'data': 'mà'}, {'startTime': 193150, 'endTime': 193690, 'data': 'em'}, {'startTime': 193690, 'endTime': 194210, 'data': 'cần'}]}, {'words': [{'startTime': 194210, 'endTime': 194490, 'data': 'Trái'}, {'startTime': 194490, 'endTime': 194750, 'data': 'tim'}, {'startTime': 194750, 'endTime': 195020, 'data': 'không'}, {'startTime': 195020, 'endTime': 195020, 'data': 'thuộc'}, {'startTime': 195020, 'endTime': 195550, 'data': 'về'}, {'startTime': 195550, 'endTime': 196600, 'data': 'nhau'}]}, {'words': [{'startTime': 196600, 'endTime': 196870, 'data': 'Giấc'}, {'startTime': 196870, 'endTime': 197130, 'data': 'mơ'}, {'startTime': 197130, 'endTime': 197130, 'data': 'không'}, {'startTime': 197130, 'endTime': 197400, 'data': 'là'}, {'startTime': 197400, 'endTime': 197930, 'data': 'của'}, {'startTime': 197930, 'endTime': 199000, 'data': 'nhau'}]}, {'words': [{'startTime': 199000, 'endTime': 199270, 'data': 'Xóa'}, {'startTime': 199270, 'endTime': 199270, 'data': 'câu'}, {'startTime': 199270, 'endTime': 199540, 'data': 'ca'}, {'startTime': 199540, 'endTime': 199790, 'data': 'buồn'}, {'startTime': 199790, 'endTime': 200320, 'data': 'chiều'}, {'startTime': 200320, 'endTime': 200580, 'data': 'mưa'}]}, {'words': [{'startTime': 200580, 'endTime': 201120, 'data': 'Anh'}, {'startTime': 201120, 'endTime': 201380, 'data': 'lỡ'}, {'startTime': 201380, 'endTime': 201650, 'data': 'xóa'}, {'startTime': 201650, 'endTime': 201650, 'data': 'luôn'}, {'startTime': 201650, 'endTime': 201920, 'data': 'yêu'}, {'startTime': 201920, 'endTime': 202180, 'data': 'thương'}, {'startTime': 202180, 'endTime': 202450, 'data': 'ngày'}, {'startTime': 202450, 'endTime': 202980, 'data': 'xưa'}, {'startTime': 202980, 'endTime': 203770, 'data': 'rồi'}]}, {'words': [{'startTime': 203770, 'endTime': 204050, 'data': 'Chúng'}, {'startTime': 204050, 'endTime': 204320, 'data': 'ta'}, {'startTime': 204320, 'endTime': 204320, 'data': 'không'}, {'startTime': 204320, 'endTime': 204850, 'data': 'thuộc'}, {'startTime': 204850, 'endTime': 205110, 'data': 'về'}, {'startTime': 205110, 'endTime': 206170, 'data': 'nhau'}]}, {'words': [{'startTime': 206170, 'endTime': 206430, 'data': 'Chúng'}, {'startTime': 206430, 'endTime': 206430, 'data': 'ta'}, {'startTime': 206430, 'endTime': 206700, 'data': 'không'}, {'startTime': 206700, 'endTime': 206970, 'data': 'thuộc'}, {'startTime': 206970, 'endTime': 207230, 'data': 'về'}, {'startTime': 207230, 'endTime': 208290, 'data': 'nhau'}]}, {'words': [{'startTime': 208290, 'endTime': 208560, 'data': 'Chúng'}, {'startTime': 208560, 'endTime': 208830, 'data': 'ta'}, {'startTime': 208830, 'endTime': 208830, 'data': 'không'}, {'startTime': 208830, 'endTime': 209080, 'data': 'thuộc'}, {'startTime': 209080, 'endTime': 209620, 'data': 'về'}, {'startTime': 209620, 'endTime': 212620, 'data': 'nhau'}]}, {'words': [{'startTime': 213070, 'endTime': 213350, 'data': 'Chúng'}, {'startTime': 213350, 'endTime': 213350, 'data': 'ta'}, {'startTime': 213350, 'endTime': 213610, 'data': 'không'}, {'startTime': 213610, 'endTime': 213860, 'data': 'thuộc'}, {'startTime': 213860, 'endTime': 214140, 'data': 'về'}, {'startTime': 214140, 'endTime': 215460, 'data': 'nhau'}]}, {'words': [{'startTime': 215460, 'endTime': 215730, 'data': 'Chúng'}, {'startTime': 215730, 'endTime': 215730, 'data': 'ta'}, {'startTime': 215730, 'endTime': 215990, 'data': 'không'}, {'startTime': 215990, 'endTime': 216260, 'data': 'thuộc'}, {'startTime': 216260, 'endTime': 216530, 'data': 'về'}, {'startTime': 216530, 'endTime': 217590, 'data': 'nhau'}]}, {'words': [{'startTime': 217590, 'endTime': 217850, 'data': 'Chúng'}, {'startTime': 217850, 'endTime': 218130, 'data': 'ta'}, {'startTime': 218130, 'endTime': 218130, 'data': 'không'}, {'startTime': 218130, 'endTime': 218380, 'data': 'thuộc'}, {'startTime': 218380, 'endTime': 218920, 'data': 'về'}, {'startTime': 218920, 'endTime': 219920, 'data': 'nhau'}]}], 'file': 'https://static-zmp3.zmdcdn.me/lyrics/c/5/b/2/c5b2471e4763b71bb287f3f864f8807b.lrc', 'enabledVideoBG': True, 'defaultIBGUrls': ['https://photo-resize-zmp3.zmdcdn.me/w1920_r3x2_jpeg/cover/3/c/0/5/3c05c10ae36f6361f9af0874bb7c4851.jpg', 'https://photo-resize-zmp3.zmdcdn.me/w1920_r3x2_jpeg/cover/b/b/e/0/bbe01e4bf6d8e23101fcb6db44df311d.jpg', 'https://photo-resize-zmp3.zmdcdn.me/w1920_r3x2_jpeg/cover/a/1/f/3/a1f34293d1dc92735be8c3f9082c4acf.jpg', 'https://photo-resize-zmp3.zmdcdn.me/w1920_r3x2_jpeg/cover/6/e/9/5/6e95b598e1e14a187ee779bcd888e75c.jpg', 'https://photo-resize-zmp3.zmdcdn.me/w1920_r3x2_jpeg/cover/1/c/8/1/1c81e957a6270eba91571d822a47e7c5.jpg', 'https://photo-resize-zmp3.zmdcdn.me/w1920_r3x2_jpeg/cover/0/0/0/d/000d9d0679bbbb564a191a6801d7f19d.jpg', 'https://photo-resize-zmp3.zmdcdn.me/w1920_r3x2_jpeg/cover/e/6/4/f/e64f4fd6f53caebabc1c26d592093cfa.jpg', 'https://photo-resize-zmp3.zmdcdn.me/w1920_r3x2_jpeg/cover/d/e/3/1/de315c40b537d40b7409a6702f446631.jpg', 'https://photo-resize-zmp3.zmdcdn.me/w1920_r3x2_jpeg/cover/1/4/6/2/1462efc7378bed3f98ace411e11eab45.jpg', 'https://photo-resize-zmp3.zmdcdn.me/w1920_r3x2_jpeg/cover/5/b/f/a/5bfa05533ed7975035e69a4508c82fd6.jpg', 'https://photo-resize-zmp3.zmdcdn.me/w1920_r3x2_jpeg/cover/f/2/b/1/f2b1b91fa64e0c354150c86fd96c249c.jpg', 'https://photo-resize-zmp3.zmdcdn.me/w1920_r3x2_jpeg/cover/5/1/f/b/51fbcd4ae32096ffe2dd89cd36bb6ed9.jpg', 'https://photo-resize-zmp3.zmdcdn.me/w1920_r3x2_jpeg/cover/6/2/3/9/62392463eab1eb1aaa2d1f3bd0f758bb.jpg', 'https://photo-resize-zmp3.zmdcdn.me/w1920_r3x2_jpeg/cover/1/2/f/0/12f01e12d6e13e263ef76f3fdb65d66e.jpg', 'https://photo-resize-zmp3.zmdcdn.me/w1920_r3x2_jpeg/cover/8/8/2/4/8824ef8e3e3aa3e302f03879a1f9d7d3.jpg', 'https://photo-resize-zmp3.zmdcdn.me/w1920_r3x2_jpeg/cover/4/3/4/9/43491e9d95a9942015548bd2a061250d.jpg', 'https://photo-resize-zmp3.zmdcdn.me/w1920_r3x2_jpeg/cover/9/8/7/5/987517940ce71a96bab9c0c88d5b6b95.jpg', 'https://photo-resize-zmp3.zmdcdn.me/w1920_r3x2_jpeg/cover/8/e/2/4/8e24305fde744814083af980a593e8c2.jpg', 'https://photo-resize-zmp3.zmdcdn.me/w1920_r3x2_jpeg/cover/f/1/2/7/f1270dd1bed79b527228e3351d2b67ae.jpg', 'https://photo-resize-zmp3.zmdcdn.me/w1920_r3x2_jpeg/cover/0/a/3/0/0a301934881ee4e2de30dc8f41bc55f9.jpg', 'https://photo-resize-zmp3.zmdcdn.me/w1920_r3x2_jpeg/cover/c/c/9/f/cc9fce8719364ba9d8a846984c590a0e.jpg', 'https://photo-resize-zmp3.zmdcdn.me/w1920_r3x2_jpeg/cover/e/5/d/e/e5de86acd7567465f54a6b9307076947.jpg', 'https://photo-resize-zmp3.zmdcdn.me/w1920_r3x2_jpeg/cover/6/4/b/b/64bb19c5f971b4e4f16f3bfdff64a396.jpg', 'https://photo-resize-zmp3.zmdcdn.me/w1920_r3x2_jpeg/cover/0/3/2/0/03206606d461843e22451747a9b60769.jpg', 'https://photo-resize-zmp3.zmdcdn.me/w1920_r3x2_jpeg/cover/b/d/4/4/bd4485d6dfef80764869a4d88d9b0475.jpg', 'https://photo-resize-zmp3.zmdcdn.me/w1920_r3x2_jpeg/cover/e/8/6/8/e86817d147315d9d644835f60d17ae41.jpg', 'https://photo-resize-zmp3.zmdcdn.me/w1920_r3x2_jpeg/cover/b/b/4/7/bb477f2f56f162b13426f70c9858c732.jpg', 'https://photo-resize-zmp3.zmdcdn.me/w1920_r3x2_jpeg/cover/c/5/3/6/c536ff6ab992e36be24ca0adf8e86ae0.jpg', 'https://photo-resize-zmp3.zmdcdn.me/w1920_r3x2_jpeg/cover/6/c/f/c/6cfc1e6e3b94c62cded257659602f00b.jpg', 'https://photo-resize-zmp3.zmdcdn.me/w1920_r3x2_jpeg/cover/2/5/d/6/25d6adaa11b4e932d61309ed635d57fa.jpg', 'https://photo-resize-zmp3.zmdcdn.me/w1920_r3x2_jpeg/cover/d/2/a/e/d2ae42243ccd4fec321fc60692a5a2dc.jpg', 'https://photo-resize-zmp3.zmdcdn.me/w1920_r3x2_jpeg/cover/b/8/0/e/b80e5777c7eec332c882bf79bd692056.jpg', 'https://photo-resize-zmp3.zmdcdn.me/w1920_r3x2_jpeg/cover/e/7/b/a/e7ba1207018f1d2fa7048598c7d627df.jpg', 'https://photo-resize-zmp3.zmdcdn.me/w1920_r3x2_jpeg/cover/3/f/4/0/3f40bd0d6d8cbcf833c72ab050f19e6a.jpg', 'https://photo-resize-zmp3.zmdcdn.me/w1920_r3x2_jpeg/cover/a/d/a/d/adad060e15f8409ec2e7670cf943c202.jpg', 'https://photo-resize-zmp3.zmdcdn.me/w1920_r3x2_jpeg/cover/e/d/1/7/ed17742d63b635725e6071a9bee362c5.jpg', 'https://photo-resize-zmp3.zmdcdn.me/w1920_r3x2_jpeg/cover/3/a/e/8/3ae816de233a9eae0116b4b5a21af43e.jpg', 'https://photo-resize-zmp3.zmdcdn.me/w1920_r3x2_jpeg/cover/d/7/f/1/d7f15e3996e7923ffc2a64d1f8e43448.jpg', 'https://photo-resize-zmp3.zmdcdn.me/w1920_r3x2_jpeg/cover/0/0/7/e/007e6b48696aab4a61ca46a10d980f63.jpg', 'https://photo-resize-zmp3.zmdcdn.me/w1920_r3x2_jpeg/cover/d/9/f/5/d9f592437d80e358a76e32798ce2d294.jpg'], 'BGMode': 0}, 'timestamp': 1732359173623}\n"
     ]
    }
   ],
   "execution_count": 78
  },
  {
   "cell_type": "markdown",
   "source": [
    "download music"
   ],
   "metadata": {
    "id": "FNSnRuH5rTkH"
   }
  },
  {
   "cell_type": "code",
   "source": [
    "# URL of the music file\n",
    "url = \"https://vnso-pt-51-tf-a128-z3.zmdcdn.me/ce6a16298529462b9a69048a4d52072d?authen=exp=1732530292~acl=/ce6a16298529462b9a69048a4d52072d*~hmac=fda72ccb06a924b4624092e3d58a63b7\"\n",
    "\n",
    "# Specify the local file path to save the downloaded music\n",
    "file_path = f\"./datasets/{artist_name}/{video_title}/audio.mp3\"\n",
    "\n",
    "# Use headers to mimic a real browser request if needed\n",
    "headers = {\n",
    "    \"User-Agent\": \"Mozilla/5.0 (Windows NT 10.0; Win64; x64) AppleWebKit/537.36 (KHTML, like Gecko) Chrome/110.0.0.0 Safari/537.36\",\n",
    "}\n",
    "\n",
    "try:\n",
    "    # Send GET request with streaming enabled\n",
    "    with requests.get(url, headers=headers, stream=True) as response:\n",
    "        response.raise_for_status()  # Check if the request was successful\n",
    "        # Open a file in binary write mode to save the content\n",
    "        with open(file_path, \"wb\") as file:\n",
    "            # Write the content in chunks to avoid memory overload\n",
    "            for chunk in response.iter_content(chunk_size=8192):\n",
    "                file.write(chunk)\n",
    "    print(f\"Music downloaded successfully and saved as '{file_path}'\")\n",
    "\n",
    "except requests.exceptions.RequestException as e:\n",
    "    print(\"Error downloading the file:\", e)"
   ],
   "metadata": {
    "id": "9VJHS_U1rVYf",
    "ExecuteTime": {
     "end_time": "2024-11-23T10:53:02.874687Z",
     "start_time": "2024-11-23T10:53:01.912243Z"
    }
   },
   "outputs": [
    {
     "name": "stdout",
     "output_type": "stream",
     "text": [
      "Music downloaded successfully and saved as './datasets/son_tung/chung_ta_khong_thuoc_ve_nhau/audio.mp3'\n"
     ]
    }
   ],
   "execution_count": 79
  },
  {
   "cell_type": "markdown",
   "source": [
    "clean subtitle file"
   ],
   "metadata": {
    "id": "HEtgqaIQwECR"
   }
  },
  {
   "cell_type": "code",
   "source": [
    "import re"
   ],
   "metadata": {
    "id": "akK5ApmyzJ9q",
    "ExecuteTime": {
     "end_time": "2024-11-23T10:51:59.707614Z",
     "start_time": "2024-11-23T10:51:59.685496Z"
    }
   },
   "outputs": [],
   "execution_count": 70
  },
  {
   "cell_type": "code",
   "source": [
    "def clean_duplicates_in_vtt(input_path, output_path):\n",
    "    with open(input_path, \"r\", encoding=\"utf-8\") as file:\n",
    "        lines = file.readlines()\n",
    "\n",
    "    # Pattern to detect timestamps (e.g., \"00:00:20.510 --> 00:00:21.680\")\n",
    "    timestamp_pattern = re.compile(r\"^\\d{2}:\\d{2}:\\d{2}\\.\\d{3} --> \\d{2}:\\d{2}:\\d{2}\\.\\d{3}$\")\n",
    "\n",
    "    # Initialize variables\n",
    "    cleaned_vtt = [\"WEBVTT\\n\"]\n",
    "    last_text = None\n",
    "    i = 1  # Start after \"WEBVTT\\n\" header\n",
    "\n",
    "    while i < len(lines):\n",
    "        line = lines[i].strip()\n",
    "\n",
    "        # If the line matches a timestamp pattern\n",
    "        if timestamp_pattern.match(line):\n",
    "            timestamp = line\n",
    "            i += 1\n",
    "\n",
    "            # Gather all consecutive lines that make up the subtitle text\n",
    "            text_lines = []\n",
    "            while i < len(lines) and lines[i].strip() and not timestamp_pattern.match(lines[i].strip()):\n",
    "                text_lines.append(lines[i].strip())\n",
    "                i += 1\n",
    "\n",
    "            text = \" \".join(text_lines)\n",
    "\n",
    "            # Only add this subtitle if it has different text from the last one\n",
    "            if text != last_text:\n",
    "                cleaned_vtt.append(f\"{timestamp}\\n{text}\\n\")\n",
    "                last_text = text\n",
    "        else:\n",
    "            i += 1  # Skip non-timestamp, non-text lines\n",
    "\n",
    "    # Write cleaned subtitles to the output VTT file\n",
    "    with open(output_path, \"w\", encoding=\"utf-8\") as file:\n",
    "        file.writelines(\"\\n\".join(cleaned_vtt))\n",
    "\n",
    "    print(f\"Cleaned VTT saved to '{output_path}'\")\n",
    "\n",
    "# Example usage:\n",
    "input_file = f'./datasets/{artist_name}/{video_title}/lyrics.vtt'\n",
    "output_file = f'./datasets/{artist_name}/{video_title}/clean.vtt'\n",
    "clean_duplicates_in_vtt(input_file, output_file)"
   ],
   "metadata": {
    "id": "LNJxMW5FwBmI",
    "ExecuteTime": {
     "end_time": "2024-11-23T10:52:02.052634Z",
     "start_time": "2024-11-23T10:52:02.016167Z"
    }
   },
   "outputs": [
    {
     "name": "stdout",
     "output_type": "stream",
     "text": [
      "Cleaned VTT saved to './datasets/son_tung/chung_ta_khong_thuoc_ve_nhau/clean.vtt'\n"
     ]
    }
   ],
   "execution_count": 71
  },
  {
   "cell_type": "markdown",
   "source": [
    "isolate"
   ],
   "metadata": {
    "id": "7Xjth7tXyxaR"
   }
  },
  {
   "cell_type": "code",
   "source": [
    "import os\n",
    "import subprocess\n",
    "import shutil\n",
    "import webvtt"
   ],
   "metadata": {
    "id": "CrduQzsvzLsJ",
    "ExecuteTime": {
     "end_time": "2024-11-23T10:53:53.446098Z",
     "start_time": "2024-11-23T10:53:53.434101Z"
    }
   },
   "outputs": [],
   "execution_count": 80
  },
  {
   "cell_type": "code",
   "source": [
    "def process_vtt_subtitles_and_extract_audio(subtitle_path, music_path):\n",
    "    # Check if subtitle and music files exist\n",
    "    if not os.path.isfile(music_path):\n",
    "        print(f\"Music file not found at {music_path}\")\n",
    "        return\n",
    "\n",
    "    if not os.path.isfile(subtitle_path):\n",
    "        print(f\"Subtitle file not found at {subtitle_path}\")\n",
    "        return\n",
    "\n",
    "    # Load VTT subtitles\n",
    "    subtitles = webvtt.read(subtitle_path)\n",
    "\n",
    "    # Output directory for segments\n",
    "    segments_dir = os.path.join(os.path.dirname(subtitle_path), 'segments')\n",
    "    os.makedirs(segments_dir, exist_ok=True)\n",
    "\n",
    "    # Process each subtitle\n",
    "    for idx, caption in enumerate(subtitles):\n",
    "        base_filename = f\"{idx + 1}\"\n",
    "        audio_output = os.path.join(segments_dir, f\"{base_filename}.mp3\")\n",
    "        text_output = os.path.join(segments_dir, f\"{base_filename}.txt\")\n",
    "\n",
    "        # Save subtitle text\n",
    "        with open(text_output, 'w', encoding='utf-8') as f:\n",
    "            f.write(caption.text.strip())\n",
    "\n",
    "        # Calculate start and end times in seconds\n",
    "        start_time = vtt_time_to_seconds(caption.start)\n",
    "        end_time = vtt_time_to_seconds(caption.end)\n",
    "\n",
    "        # Extract audio segment from full audio\n",
    "        extract_audio_segment(music_path, audio_output, start_time, end_time)\n",
    "\n",
    "        # Isolate vocals using Demucs\n",
    "        isolate_vocals_with_demucs(audio_output)\n",
    "\n",
    "    print(f\"Processing completed. Segments are saved in: {segments_dir}\")\n",
    "\n",
    "def vtt_time_to_seconds(time_str):\n",
    "    \"\"\"Convert VTT timestamp (hh:mm:ss.mmm) to seconds.\"\"\"\n",
    "    hours, minutes, seconds = time_str.split(':')\n",
    "    seconds, milliseconds = seconds.split('.')\n",
    "    total_seconds = int(hours) * 3600 + int(minutes) * 60 + int(seconds) + int(milliseconds) / 1000\n",
    "    return total_seconds\n",
    "\n",
    "def extract_audio_segment(input_audio, output_audio, start_time, end_time):\n",
    "    command = [\n",
    "        'ffmpeg', '-y', '-ss', str(start_time), '-to', str(end_time),\n",
    "        '-i', input_audio,\n",
    "        '-ar', '44100', '-ac', '2',  # Standard CD quality for Demucs\n",
    "        '-vn', '-acodec', 'libmp3lame',  # Use MP3 codec\n",
    "        output_audio\n",
    "    ]\n",
    "    subprocess.run(command, stdout=subprocess.PIPE, stderr=subprocess.PIPE)\n",
    "\n",
    "def isolate_vocals_with_demucs(audio_path):\n",
    "    # Use Demucs to isolate vocals in-place\n",
    "    command = [\n",
    "        'demucs', '--two-stems', 'vocals', audio_path\n",
    "    ]\n",
    "    subprocess.run(command, stdout=subprocess.PIPE, stderr=subprocess.PIPE)\n",
    "\n",
    "    # Demucs outputs to 'separated/<model_name>/<audio_file_basename>/'\n",
    "    # Move the vocals.wav back to the original location\n",
    "    model_name = 'htdemucs'  # Default model name used by Demucs\n",
    "    audio_basename = os.path.splitext(os.path.basename(audio_path))[0]\n",
    "    demucs_output_dir = os.path.join('separated', model_name, audio_basename)\n",
    "    vocals_path = os.path.join(demucs_output_dir, 'vocals.wav')\n",
    "\n",
    "    if os.path.isfile(vocals_path):\n",
    "        shutil.move(vocals_path, audio_path)\n",
    "        # Clean up other files\n",
    "        shutil.rmtree(demucs_output_dir)\n",
    "    else:\n",
    "        print(f\"Vocals not found for {audio_path}\")\n",
    "\n",
    "# Example usage:\n",
    "\n",
    "subtitle_path = f'./datasets/{artist_name}/{video_title}/clean.vtt'\n",
    "music_path = f'./datasets/{artist_name}/{video_title}/audio.mp3'\n",
    "\n",
    "process_vtt_subtitles_and_extract_audio(subtitle_path, music_path)\n"
   ],
   "metadata": {
    "id": "wODAV3BIy_R5",
    "ExecuteTime": {
     "end_time": "2024-11-23T10:51:23.670303Z",
     "start_time": "2024-11-23T10:47:04.656400Z"
    }
   },
   "outputs": [
    {
     "ename": "KeyboardInterrupt",
     "evalue": "",
     "output_type": "error",
     "traceback": [
      "\u001B[1;31m---------------------------------------------------------------------------\u001B[0m",
      "\u001B[1;31mKeyboardInterrupt\u001B[0m                         Traceback (most recent call last)",
      "Cell \u001B[1;32mIn[64], line 83\u001B[0m\n\u001B[0;32m     80\u001B[0m subtitle_path \u001B[38;5;241m=\u001B[39m \u001B[38;5;124mf\u001B[39m\u001B[38;5;124m'\u001B[39m\u001B[38;5;124m./datasets/\u001B[39m\u001B[38;5;132;01m{\u001B[39;00martist_name\u001B[38;5;132;01m}\u001B[39;00m\u001B[38;5;124m/\u001B[39m\u001B[38;5;132;01m{\u001B[39;00mvideo_title\u001B[38;5;132;01m}\u001B[39;00m\u001B[38;5;124m/clean.vtt\u001B[39m\u001B[38;5;124m'\u001B[39m\n\u001B[0;32m     81\u001B[0m music_path \u001B[38;5;241m=\u001B[39m \u001B[38;5;124mf\u001B[39m\u001B[38;5;124m'\u001B[39m\u001B[38;5;124m./datasets/\u001B[39m\u001B[38;5;132;01m{\u001B[39;00martist_name\u001B[38;5;132;01m}\u001B[39;00m\u001B[38;5;124m/\u001B[39m\u001B[38;5;132;01m{\u001B[39;00mvideo_title\u001B[38;5;132;01m}\u001B[39;00m\u001B[38;5;124m/audio.mp3\u001B[39m\u001B[38;5;124m'\u001B[39m\n\u001B[1;32m---> 83\u001B[0m \u001B[43mprocess_vtt_subtitles_and_extract_audio\u001B[49m\u001B[43m(\u001B[49m\u001B[43msubtitle_path\u001B[49m\u001B[43m,\u001B[49m\u001B[43m \u001B[49m\u001B[43mmusic_path\u001B[49m\u001B[43m)\u001B[49m\n",
      "Cell \u001B[1;32mIn[64], line 36\u001B[0m, in \u001B[0;36mprocess_vtt_subtitles_and_extract_audio\u001B[1;34m(subtitle_path, music_path)\u001B[0m\n\u001B[0;32m     33\u001B[0m     extract_audio_segment(music_path, audio_output, start_time, end_time)\n\u001B[0;32m     35\u001B[0m     \u001B[38;5;66;03m# Isolate vocals using Demucs\u001B[39;00m\n\u001B[1;32m---> 36\u001B[0m     \u001B[43misolate_vocals_with_demucs\u001B[49m\u001B[43m(\u001B[49m\u001B[43maudio_output\u001B[49m\u001B[43m)\u001B[49m\n\u001B[0;32m     38\u001B[0m \u001B[38;5;28mprint\u001B[39m(\u001B[38;5;124mf\u001B[39m\u001B[38;5;124m\"\u001B[39m\u001B[38;5;124mProcessing completed. Segments are saved in: \u001B[39m\u001B[38;5;132;01m{\u001B[39;00msegments_dir\u001B[38;5;132;01m}\u001B[39;00m\u001B[38;5;124m\"\u001B[39m)\n",
      "Cell \u001B[1;32mIn[64], line 62\u001B[0m, in \u001B[0;36misolate_vocals_with_demucs\u001B[1;34m(audio_path)\u001B[0m\n\u001B[0;32m     57\u001B[0m \u001B[38;5;28;01mdef\u001B[39;00m \u001B[38;5;21misolate_vocals_with_demucs\u001B[39m(audio_path):\n\u001B[0;32m     58\u001B[0m     \u001B[38;5;66;03m# Use Demucs to isolate vocals in-place\u001B[39;00m\n\u001B[0;32m     59\u001B[0m     command \u001B[38;5;241m=\u001B[39m [\n\u001B[0;32m     60\u001B[0m         \u001B[38;5;124m'\u001B[39m\u001B[38;5;124mdemucs\u001B[39m\u001B[38;5;124m'\u001B[39m, \u001B[38;5;124m'\u001B[39m\u001B[38;5;124m--two-stems\u001B[39m\u001B[38;5;124m'\u001B[39m, \u001B[38;5;124m'\u001B[39m\u001B[38;5;124mvocals\u001B[39m\u001B[38;5;124m'\u001B[39m, audio_path\n\u001B[0;32m     61\u001B[0m     ]\n\u001B[1;32m---> 62\u001B[0m     \u001B[43msubprocess\u001B[49m\u001B[38;5;241;43m.\u001B[39;49m\u001B[43mrun\u001B[49m\u001B[43m(\u001B[49m\u001B[43mcommand\u001B[49m\u001B[43m,\u001B[49m\u001B[43m \u001B[49m\u001B[43mstdout\u001B[49m\u001B[38;5;241;43m=\u001B[39;49m\u001B[43msubprocess\u001B[49m\u001B[38;5;241;43m.\u001B[39;49m\u001B[43mPIPE\u001B[49m\u001B[43m,\u001B[49m\u001B[43m \u001B[49m\u001B[43mstderr\u001B[49m\u001B[38;5;241;43m=\u001B[39;49m\u001B[43msubprocess\u001B[49m\u001B[38;5;241;43m.\u001B[39;49m\u001B[43mPIPE\u001B[49m\u001B[43m)\u001B[49m\n\u001B[0;32m     64\u001B[0m     \u001B[38;5;66;03m# Demucs outputs to 'separated/<model_name>/<audio_file_basename>/'\u001B[39;00m\n\u001B[0;32m     65\u001B[0m     \u001B[38;5;66;03m# Move the vocals.wav back to the original location\u001B[39;00m\n\u001B[0;32m     66\u001B[0m     model_name \u001B[38;5;241m=\u001B[39m \u001B[38;5;124m'\u001B[39m\u001B[38;5;124mhtdemucs\u001B[39m\u001B[38;5;124m'\u001B[39m  \u001B[38;5;66;03m# Default model name used by Demucs\u001B[39;00m\n",
      "File \u001B[1;32mD:\\SDK\\python\\3.9.6\\lib\\subprocess.py:507\u001B[0m, in \u001B[0;36mrun\u001B[1;34m(input, capture_output, timeout, check, *popenargs, **kwargs)\u001B[0m\n\u001B[0;32m    505\u001B[0m \u001B[38;5;28;01mwith\u001B[39;00m Popen(\u001B[38;5;241m*\u001B[39mpopenargs, \u001B[38;5;241m*\u001B[39m\u001B[38;5;241m*\u001B[39mkwargs) \u001B[38;5;28;01mas\u001B[39;00m process:\n\u001B[0;32m    506\u001B[0m     \u001B[38;5;28;01mtry\u001B[39;00m:\n\u001B[1;32m--> 507\u001B[0m         stdout, stderr \u001B[38;5;241m=\u001B[39m \u001B[43mprocess\u001B[49m\u001B[38;5;241;43m.\u001B[39;49m\u001B[43mcommunicate\u001B[49m\u001B[43m(\u001B[49m\u001B[38;5;28;43minput\u001B[39;49m\u001B[43m,\u001B[49m\u001B[43m \u001B[49m\u001B[43mtimeout\u001B[49m\u001B[38;5;241;43m=\u001B[39;49m\u001B[43mtimeout\u001B[49m\u001B[43m)\u001B[49m\n\u001B[0;32m    508\u001B[0m     \u001B[38;5;28;01mexcept\u001B[39;00m TimeoutExpired \u001B[38;5;28;01mas\u001B[39;00m exc:\n\u001B[0;32m    509\u001B[0m         process\u001B[38;5;241m.\u001B[39mkill()\n",
      "File \u001B[1;32mD:\\SDK\\python\\3.9.6\\lib\\subprocess.py:1134\u001B[0m, in \u001B[0;36mPopen.communicate\u001B[1;34m(self, input, timeout)\u001B[0m\n\u001B[0;32m   1131\u001B[0m     endtime \u001B[38;5;241m=\u001B[39m \u001B[38;5;28;01mNone\u001B[39;00m\n\u001B[0;32m   1133\u001B[0m \u001B[38;5;28;01mtry\u001B[39;00m:\n\u001B[1;32m-> 1134\u001B[0m     stdout, stderr \u001B[38;5;241m=\u001B[39m \u001B[38;5;28;43mself\u001B[39;49m\u001B[38;5;241;43m.\u001B[39;49m\u001B[43m_communicate\u001B[49m\u001B[43m(\u001B[49m\u001B[38;5;28;43minput\u001B[39;49m\u001B[43m,\u001B[49m\u001B[43m \u001B[49m\u001B[43mendtime\u001B[49m\u001B[43m,\u001B[49m\u001B[43m \u001B[49m\u001B[43mtimeout\u001B[49m\u001B[43m)\u001B[49m\n\u001B[0;32m   1135\u001B[0m \u001B[38;5;28;01mexcept\u001B[39;00m \u001B[38;5;167;01mKeyboardInterrupt\u001B[39;00m:\n\u001B[0;32m   1136\u001B[0m     \u001B[38;5;66;03m# https://bugs.python.org/issue25942\u001B[39;00m\n\u001B[0;32m   1137\u001B[0m     \u001B[38;5;66;03m# See the detailed comment in .wait().\u001B[39;00m\n\u001B[0;32m   1138\u001B[0m     \u001B[38;5;28;01mif\u001B[39;00m timeout \u001B[38;5;129;01mis\u001B[39;00m \u001B[38;5;129;01mnot\u001B[39;00m \u001B[38;5;28;01mNone\u001B[39;00m:\n",
      "File \u001B[1;32mD:\\SDK\\python\\3.9.6\\lib\\subprocess.py:1508\u001B[0m, in \u001B[0;36mPopen._communicate\u001B[1;34m(self, input, endtime, orig_timeout)\u001B[0m\n\u001B[0;32m   1504\u001B[0m \u001B[38;5;66;03m# Wait for the reader threads, or time out.  If we time out, the\u001B[39;00m\n\u001B[0;32m   1505\u001B[0m \u001B[38;5;66;03m# threads remain reading and the fds left open in case the user\u001B[39;00m\n\u001B[0;32m   1506\u001B[0m \u001B[38;5;66;03m# calls communicate again.\u001B[39;00m\n\u001B[0;32m   1507\u001B[0m \u001B[38;5;28;01mif\u001B[39;00m \u001B[38;5;28mself\u001B[39m\u001B[38;5;241m.\u001B[39mstdout \u001B[38;5;129;01mis\u001B[39;00m \u001B[38;5;129;01mnot\u001B[39;00m \u001B[38;5;28;01mNone\u001B[39;00m:\n\u001B[1;32m-> 1508\u001B[0m     \u001B[38;5;28;43mself\u001B[39;49m\u001B[38;5;241;43m.\u001B[39;49m\u001B[43mstdout_thread\u001B[49m\u001B[38;5;241;43m.\u001B[39;49m\u001B[43mjoin\u001B[49m\u001B[43m(\u001B[49m\u001B[38;5;28;43mself\u001B[39;49m\u001B[38;5;241;43m.\u001B[39;49m\u001B[43m_remaining_time\u001B[49m\u001B[43m(\u001B[49m\u001B[43mendtime\u001B[49m\u001B[43m)\u001B[49m\u001B[43m)\u001B[49m\n\u001B[0;32m   1509\u001B[0m     \u001B[38;5;28;01mif\u001B[39;00m \u001B[38;5;28mself\u001B[39m\u001B[38;5;241m.\u001B[39mstdout_thread\u001B[38;5;241m.\u001B[39mis_alive():\n\u001B[0;32m   1510\u001B[0m         \u001B[38;5;28;01mraise\u001B[39;00m TimeoutExpired(\u001B[38;5;28mself\u001B[39m\u001B[38;5;241m.\u001B[39margs, orig_timeout)\n",
      "File \u001B[1;32mD:\\SDK\\python\\3.9.6\\lib\\threading.py:1053\u001B[0m, in \u001B[0;36mThread.join\u001B[1;34m(self, timeout)\u001B[0m\n\u001B[0;32m   1050\u001B[0m     \u001B[38;5;28;01mraise\u001B[39;00m \u001B[38;5;167;01mRuntimeError\u001B[39;00m(\u001B[38;5;124m\"\u001B[39m\u001B[38;5;124mcannot join current thread\u001B[39m\u001B[38;5;124m\"\u001B[39m)\n\u001B[0;32m   1052\u001B[0m \u001B[38;5;28;01mif\u001B[39;00m timeout \u001B[38;5;129;01mis\u001B[39;00m \u001B[38;5;28;01mNone\u001B[39;00m:\n\u001B[1;32m-> 1053\u001B[0m     \u001B[38;5;28;43mself\u001B[39;49m\u001B[38;5;241;43m.\u001B[39;49m\u001B[43m_wait_for_tstate_lock\u001B[49m\u001B[43m(\u001B[49m\u001B[43m)\u001B[49m\n\u001B[0;32m   1054\u001B[0m \u001B[38;5;28;01melse\u001B[39;00m:\n\u001B[0;32m   1055\u001B[0m     \u001B[38;5;66;03m# the behavior of a negative timeout isn't documented, but\u001B[39;00m\n\u001B[0;32m   1056\u001B[0m     \u001B[38;5;66;03m# historically .join(timeout=x) for x<0 has acted as if timeout=0\u001B[39;00m\n\u001B[0;32m   1057\u001B[0m     \u001B[38;5;28mself\u001B[39m\u001B[38;5;241m.\u001B[39m_wait_for_tstate_lock(timeout\u001B[38;5;241m=\u001B[39m\u001B[38;5;28mmax\u001B[39m(timeout, \u001B[38;5;241m0\u001B[39m))\n",
      "File \u001B[1;32mD:\\SDK\\python\\3.9.6\\lib\\threading.py:1069\u001B[0m, in \u001B[0;36mThread._wait_for_tstate_lock\u001B[1;34m(self, block, timeout)\u001B[0m\n\u001B[0;32m   1067\u001B[0m \u001B[38;5;28;01mif\u001B[39;00m lock \u001B[38;5;129;01mis\u001B[39;00m \u001B[38;5;28;01mNone\u001B[39;00m:  \u001B[38;5;66;03m# already determined that the C code is done\u001B[39;00m\n\u001B[0;32m   1068\u001B[0m     \u001B[38;5;28;01massert\u001B[39;00m \u001B[38;5;28mself\u001B[39m\u001B[38;5;241m.\u001B[39m_is_stopped\n\u001B[1;32m-> 1069\u001B[0m \u001B[38;5;28;01melif\u001B[39;00m \u001B[43mlock\u001B[49m\u001B[38;5;241;43m.\u001B[39;49m\u001B[43macquire\u001B[49m\u001B[43m(\u001B[49m\u001B[43mblock\u001B[49m\u001B[43m,\u001B[49m\u001B[43m \u001B[49m\u001B[43mtimeout\u001B[49m\u001B[43m)\u001B[49m:\n\u001B[0;32m   1070\u001B[0m     lock\u001B[38;5;241m.\u001B[39mrelease()\n\u001B[0;32m   1071\u001B[0m     \u001B[38;5;28mself\u001B[39m\u001B[38;5;241m.\u001B[39m_stop()\n",
      "\u001B[1;31mKeyboardInterrupt\u001B[0m: "
     ]
    }
   ],
   "execution_count": 64
  },
  {
   "cell_type": "code",
   "source": [
    "from IPython.display import Audio"
   ],
   "metadata": {
    "id": "JUMdUlFn05Dy",
    "ExecuteTime": {
     "end_time": "2024-11-23T10:53:58.354395Z",
     "start_time": "2024-11-23T10:53:58.332128Z"
    }
   },
   "outputs": [],
   "execution_count": 81
  },
  {
   "cell_type": "code",
   "source": "Audio(filename=f'./datasets/{artist_name}/{video_title}/segments/5.mp3')",
   "metadata": {
    "id": "kQOkjHGA0zG5",
    "ExecuteTime": {
     "end_time": "2024-11-23T10:53:59.728751Z",
     "start_time": "2024-11-23T10:53:59.519647Z"
    }
   },
   "outputs": [
    {
     "ename": "FileNotFoundError",
     "evalue": "[Errno 2] No such file or directory: './datasets/son_tung/chung_ta_khong_thuoc_ve_nhau/segments/5.mp3'",
     "output_type": "error",
     "traceback": [
      "\u001B[1;31m---------------------------------------------------------------------------\u001B[0m",
      "\u001B[1;31mFileNotFoundError\u001B[0m                         Traceback (most recent call last)",
      "Cell \u001B[1;32mIn[82], line 1\u001B[0m\n\u001B[1;32m----> 1\u001B[0m \u001B[43mAudio\u001B[49m\u001B[43m(\u001B[49m\u001B[43mfilename\u001B[49m\u001B[38;5;241;43m=\u001B[39;49m\u001B[38;5;124;43mf\u001B[39;49m\u001B[38;5;124;43m'\u001B[39;49m\u001B[38;5;124;43m./datasets/\u001B[39;49m\u001B[38;5;132;43;01m{\u001B[39;49;00m\u001B[43martist_name\u001B[49m\u001B[38;5;132;43;01m}\u001B[39;49;00m\u001B[38;5;124;43m/\u001B[39;49m\u001B[38;5;132;43;01m{\u001B[39;49;00m\u001B[43mvideo_title\u001B[49m\u001B[38;5;132;43;01m}\u001B[39;49;00m\u001B[38;5;124;43m/segments/5.mp3\u001B[39;49m\u001B[38;5;124;43m'\u001B[39;49m\u001B[43m)\u001B[49m\n",
      "File \u001B[1;32mD:\\SDK\\Python\\venv\\PBL6-3.9.6\\lib\\site-packages\\IPython\\lib\\display.py:125\u001B[0m, in \u001B[0;36mAudio.__init__\u001B[1;34m(self, data, filename, url, embed, rate, autoplay, normalize, element_id)\u001B[0m\n\u001B[0;32m    123\u001B[0m \u001B[38;5;28mself\u001B[39m\u001B[38;5;241m.\u001B[39mautoplay \u001B[38;5;241m=\u001B[39m autoplay\n\u001B[0;32m    124\u001B[0m \u001B[38;5;28mself\u001B[39m\u001B[38;5;241m.\u001B[39melement_id \u001B[38;5;241m=\u001B[39m element_id\n\u001B[1;32m--> 125\u001B[0m \u001B[38;5;28;43msuper\u001B[39;49m\u001B[43m(\u001B[49m\u001B[43mAudio\u001B[49m\u001B[43m,\u001B[49m\u001B[43m \u001B[49m\u001B[38;5;28;43mself\u001B[39;49m\u001B[43m)\u001B[49m\u001B[38;5;241;43m.\u001B[39;49m\u001B[38;5;21;43m__init__\u001B[39;49m\u001B[43m(\u001B[49m\u001B[43mdata\u001B[49m\u001B[38;5;241;43m=\u001B[39;49m\u001B[43mdata\u001B[49m\u001B[43m,\u001B[49m\u001B[43m \u001B[49m\u001B[43murl\u001B[49m\u001B[38;5;241;43m=\u001B[39;49m\u001B[43murl\u001B[49m\u001B[43m,\u001B[49m\u001B[43m \u001B[49m\u001B[43mfilename\u001B[49m\u001B[38;5;241;43m=\u001B[39;49m\u001B[43mfilename\u001B[49m\u001B[43m)\u001B[49m\n\u001B[0;32m    127\u001B[0m \u001B[38;5;28;01mif\u001B[39;00m \u001B[38;5;28mself\u001B[39m\u001B[38;5;241m.\u001B[39mdata \u001B[38;5;129;01mis\u001B[39;00m \u001B[38;5;129;01mnot\u001B[39;00m \u001B[38;5;28;01mNone\u001B[39;00m \u001B[38;5;129;01mand\u001B[39;00m \u001B[38;5;129;01mnot\u001B[39;00m \u001B[38;5;28misinstance\u001B[39m(\u001B[38;5;28mself\u001B[39m\u001B[38;5;241m.\u001B[39mdata, \u001B[38;5;28mbytes\u001B[39m):\n\u001B[0;32m    128\u001B[0m     \u001B[38;5;28;01mif\u001B[39;00m rate \u001B[38;5;129;01mis\u001B[39;00m \u001B[38;5;28;01mNone\u001B[39;00m:\n",
      "File \u001B[1;32mD:\\SDK\\Python\\venv\\PBL6-3.9.6\\lib\\site-packages\\IPython\\core\\display.py:327\u001B[0m, in \u001B[0;36mDisplayObject.__init__\u001B[1;34m(self, data, url, filename, metadata)\u001B[0m\n\u001B[0;32m    324\u001B[0m \u001B[38;5;28;01melif\u001B[39;00m \u001B[38;5;28mself\u001B[39m\u001B[38;5;241m.\u001B[39mmetadata \u001B[38;5;129;01mis\u001B[39;00m \u001B[38;5;28;01mNone\u001B[39;00m:\n\u001B[0;32m    325\u001B[0m     \u001B[38;5;28mself\u001B[39m\u001B[38;5;241m.\u001B[39mmetadata \u001B[38;5;241m=\u001B[39m {}\n\u001B[1;32m--> 327\u001B[0m \u001B[38;5;28;43mself\u001B[39;49m\u001B[38;5;241;43m.\u001B[39;49m\u001B[43mreload\u001B[49m\u001B[43m(\u001B[49m\u001B[43m)\u001B[49m\n\u001B[0;32m    328\u001B[0m \u001B[38;5;28mself\u001B[39m\u001B[38;5;241m.\u001B[39m_check_data()\n",
      "File \u001B[1;32mD:\\SDK\\Python\\venv\\PBL6-3.9.6\\lib\\site-packages\\IPython\\lib\\display.py:136\u001B[0m, in \u001B[0;36mAudio.reload\u001B[1;34m(self)\u001B[0m\n\u001B[0;32m    134\u001B[0m \u001B[38;5;28;01mimport\u001B[39;00m \u001B[38;5;21;01mmimetypes\u001B[39;00m\n\u001B[0;32m    135\u001B[0m \u001B[38;5;28;01mif\u001B[39;00m \u001B[38;5;28mself\u001B[39m\u001B[38;5;241m.\u001B[39membed:\n\u001B[1;32m--> 136\u001B[0m     \u001B[38;5;28;43msuper\u001B[39;49m\u001B[43m(\u001B[49m\u001B[43mAudio\u001B[49m\u001B[43m,\u001B[49m\u001B[43m \u001B[49m\u001B[38;5;28;43mself\u001B[39;49m\u001B[43m)\u001B[49m\u001B[38;5;241;43m.\u001B[39;49m\u001B[43mreload\u001B[49m\u001B[43m(\u001B[49m\u001B[43m)\u001B[49m\n\u001B[0;32m    138\u001B[0m \u001B[38;5;28;01mif\u001B[39;00m \u001B[38;5;28mself\u001B[39m\u001B[38;5;241m.\u001B[39mfilename \u001B[38;5;129;01mis\u001B[39;00m \u001B[38;5;129;01mnot\u001B[39;00m \u001B[38;5;28;01mNone\u001B[39;00m:\n\u001B[0;32m    139\u001B[0m     \u001B[38;5;28mself\u001B[39m\u001B[38;5;241m.\u001B[39mmimetype \u001B[38;5;241m=\u001B[39m mimetypes\u001B[38;5;241m.\u001B[39mguess_type(\u001B[38;5;28mself\u001B[39m\u001B[38;5;241m.\u001B[39mfilename)[\u001B[38;5;241m0\u001B[39m]\n",
      "File \u001B[1;32mD:\\SDK\\Python\\venv\\PBL6-3.9.6\\lib\\site-packages\\IPython\\core\\display.py:353\u001B[0m, in \u001B[0;36mDisplayObject.reload\u001B[1;34m(self)\u001B[0m\n\u001B[0;32m    351\u001B[0m \u001B[38;5;28;01mif\u001B[39;00m \u001B[38;5;28mself\u001B[39m\u001B[38;5;241m.\u001B[39mfilename \u001B[38;5;129;01mis\u001B[39;00m \u001B[38;5;129;01mnot\u001B[39;00m \u001B[38;5;28;01mNone\u001B[39;00m:\n\u001B[0;32m    352\u001B[0m     encoding \u001B[38;5;241m=\u001B[39m \u001B[38;5;28;01mNone\u001B[39;00m \u001B[38;5;28;01mif\u001B[39;00m \u001B[38;5;124m\"\u001B[39m\u001B[38;5;124mb\u001B[39m\u001B[38;5;124m\"\u001B[39m \u001B[38;5;129;01min\u001B[39;00m \u001B[38;5;28mself\u001B[39m\u001B[38;5;241m.\u001B[39m_read_flags \u001B[38;5;28;01melse\u001B[39;00m \u001B[38;5;124m\"\u001B[39m\u001B[38;5;124mutf-8\u001B[39m\u001B[38;5;124m\"\u001B[39m\n\u001B[1;32m--> 353\u001B[0m     \u001B[38;5;28;01mwith\u001B[39;00m \u001B[38;5;28;43mopen\u001B[39;49m\u001B[43m(\u001B[49m\u001B[38;5;28;43mself\u001B[39;49m\u001B[38;5;241;43m.\u001B[39;49m\u001B[43mfilename\u001B[49m\u001B[43m,\u001B[49m\u001B[43m \u001B[49m\u001B[38;5;28;43mself\u001B[39;49m\u001B[38;5;241;43m.\u001B[39;49m\u001B[43m_read_flags\u001B[49m\u001B[43m,\u001B[49m\u001B[43m \u001B[49m\u001B[43mencoding\u001B[49m\u001B[38;5;241;43m=\u001B[39;49m\u001B[43mencoding\u001B[49m\u001B[43m)\u001B[49m \u001B[38;5;28;01mas\u001B[39;00m f:\n\u001B[0;32m    354\u001B[0m         \u001B[38;5;28mself\u001B[39m\u001B[38;5;241m.\u001B[39mdata \u001B[38;5;241m=\u001B[39m f\u001B[38;5;241m.\u001B[39mread()\n\u001B[0;32m    355\u001B[0m \u001B[38;5;28;01melif\u001B[39;00m \u001B[38;5;28mself\u001B[39m\u001B[38;5;241m.\u001B[39murl \u001B[38;5;129;01mis\u001B[39;00m \u001B[38;5;129;01mnot\u001B[39;00m \u001B[38;5;28;01mNone\u001B[39;00m:\n\u001B[0;32m    356\u001B[0m     \u001B[38;5;66;03m# Deferred import\u001B[39;00m\n",
      "\u001B[1;31mFileNotFoundError\u001B[0m: [Errno 2] No such file or directory: './datasets/son_tung/chung_ta_khong_thuoc_ve_nhau/segments/5.mp3'"
     ]
    }
   ],
   "execution_count": 82
  },
  {
   "cell_type": "markdown",
   "source": [
    "**Prepare datasets**"
   ],
   "metadata": {
    "id": "k_OCDEhdaCQz"
   }
  },
  {
   "cell_type": "code",
   "source": [
    "import os\n",
    "import pysrt\n",
    "import webvtt\n",
    "from pathlib import Path\n",
    "from typing import List, Dict, Tuple"
   ],
   "metadata": {
    "id": "URDoVFGzaYw0",
    "ExecuteTime": {
     "end_time": "2024-11-23T10:54:07.807111Z",
     "start_time": "2024-11-23T10:54:07.781942Z"
    }
   },
   "outputs": [],
   "execution_count": 83
  },
  {
   "cell_type": "code",
   "source": [
    "def load_subtitles(file_path: str) -> List[Dict[str, Tuple[str, float, float]]]:\n",
    "    \"\"\"\n",
    "    Load subtitles from .srt or .vtt file and return a list of dictionaries\n",
    "    containing the text and start/end times.\n",
    "    \"\"\"\n",
    "    subtitles = []\n",
    "    if file_path.endswith('.srt'):\n",
    "        subs = pysrt.open(file_path)\n",
    "        for sub in subs:\n",
    "            start = sub.start.seconds + sub.start.microseconds / 1_000_000\n",
    "            end = sub.end.seconds + sub.end.microseconds / 1_000_000\n",
    "            subtitles.append({\"text\": sub.text, \"start\": start, \"end\": end})\n",
    "    elif file_path.endswith('.vtt'):\n",
    "        for caption in webvtt.read(file_path):\n",
    "            start = float(caption.start_in_seconds)\n",
    "            end = float(caption.end_in_seconds)\n",
    "            subtitles.append({\"text\": caption.text, \"start\": start, \"end\": end})\n",
    "    return subtitles"
   ],
   "metadata": {
    "id": "I5ghaeuPaEOW",
    "ExecuteTime": {
     "end_time": "2024-11-23T10:54:11.180707Z",
     "start_time": "2024-11-23T10:54:11.153800Z"
    }
   },
   "outputs": [],
   "execution_count": 84
  },
  {
   "cell_type": "markdown",
   "source": [
    "Create Audio-Text Pair Preparation Function"
   ],
   "metadata": {
    "id": "K5hDF83haRp8"
   }
  },
  {
   "cell_type": "code",
   "source": [
    "import torchaudio\n",
    "from datasets import Dataset, Audio"
   ],
   "metadata": {
    "id": "UVJplhv9aVzU",
    "ExecuteTime": {
     "end_time": "2024-11-23T10:54:15.925038Z",
     "start_time": "2024-11-23T10:54:15.911013Z"
    }
   },
   "outputs": [],
   "execution_count": 85
  },
  {
   "cell_type": "code",
   "source": [
    "def prepare_data(audio_dir: str, subtitle_dir: str) -> List[Dict]:\n",
    "    \"\"\"\n",
    "    Prepare the data by loading each audio file and matching it with its transcription from the subtitle file.\n",
    "    \"\"\"\n",
    "    data = []\n",
    "    audio_files = sorted(Path(audio_dir).glob(\"*.wav\"))\n",
    "\n",
    "    for audio_file in audio_files:\n",
    "        # Match audio files with subtitle files by name\n",
    "        subtitle_file = Path(subtitle_dir) / (audio_file.stem + \".srt\")\n",
    "        if not subtitle_file.exists():\n",
    "            subtitle_file = Path(subtitle_dir) / (audio_file.stem + \".vtt\")\n",
    "        if not subtitle_file.exists():\n",
    "            continue  # Skip if no matching subtitle found\n",
    "\n",
    "        # Load subtitle data\n",
    "        subtitles = load_subtitles(str(subtitle_file))\n",
    "\n",
    "        # Load audio file\n",
    "        audio, sr = torchaudio.load(audio_file)\n",
    "        audio_duration = audio.shape[1] / sr\n",
    "\n",
    "        # Store data in the format required for fine-tuning\n",
    "        for segment in subtitles:\n",
    "            data.append({\n",
    "                \"audio\": str(audio_file),\n",
    "                \"text\": segment[\"text\"],\n",
    "                \"start\": segment[\"start\"],\n",
    "                \"end\": segment[\"end\"],\n",
    "                \"duration\": audio_duration\n",
    "            })\n",
    "    return data"
   ],
   "metadata": {
    "id": "aQNgxkCqaSSv",
    "ExecuteTime": {
     "end_time": "2024-11-23T10:54:18.245380Z",
     "start_time": "2024-11-23T10:54:18.211365Z"
    }
   },
   "outputs": [],
   "execution_count": 86
  }
 ]
}
